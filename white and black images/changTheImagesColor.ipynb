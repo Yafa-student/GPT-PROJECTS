{
 "cells": [
  {
   "cell_type": "code",
   "execution_count": 1,
   "id": "0ad9c7e1-87e9-4a9a-9ed6-84b44027fe4b",
   "metadata": {},
   "outputs": [],
   "source": [
    "import os\n",
    "from PIL import Image\n",
    "\n",
    "def convert_images_to_bw(folder_path):\n",
    "    # Create a new folder for black and white images\n",
    "    images_after = os.path.join(folder_path, 'images_after')\n",
    "    os.makedirs(images_after, exist_ok=True)\n",
    "\n",
    "    # Loop through all files in the folder\n",
    "    for filename in os.listdir(folder_path):\n",
    "        if filename.endswith(('.png', '.jpg', '.jpeg', '.bmp', '.gif')):\n",
    "            img_path = os.path.join(folder_path, filename)\n",
    "            img = Image.open(img_path)\n",
    "            # Convert image to black and white\n",
    "            bw_img = img.convert('L')\n",
    "            # Save the black and white image\n",
    "            bw_img.save(os.path.join(images_after, filename))  # Change bw_folder to images_after\n",
    "\n",
    "# Example usage\n",
    "folder_path = r'C:\\יפי\\לימודים\\ו\\GPT project\\white and black images\\images_beafor'  # Use raw string for Windows paths\n",
    "convert_images_to_bw(folder_path)\n",
    "\n"
   ]
  },
  {
   "cell_type": "code",
   "execution_count": null,
   "id": "998cbdf5-b2f6-4a0d-bb47-c2a66b1f75bf",
   "metadata": {},
   "outputs": [],
   "source": []
  }
 ],
 "metadata": {
  "kernelspec": {
   "display_name": "Python 3 (ipykernel)",
   "language": "python",
   "name": "python3"
  },
  "language_info": {
   "codemirror_mode": {
    "name": "ipython",
    "version": 3
   },
   "file_extension": ".py",
   "mimetype": "text/x-python",
   "name": "python",
   "nbconvert_exporter": "python",
   "pygments_lexer": "ipython3",
   "version": "3.13.7"
  }
 },
 "nbformat": 4,
 "nbformat_minor": 5
}
